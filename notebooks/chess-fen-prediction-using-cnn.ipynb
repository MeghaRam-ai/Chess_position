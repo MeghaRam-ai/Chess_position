{
 "metadata": {
  "kernelspec": {
   "language": "python",
   "display_name": "Python 3",
   "name": "python3"
  },
  "language_info": {
   "name": "python",
   "version": "3.7.12",
   "mimetype": "text/x-python",
   "codemirror_mode": {
    "name": "ipython",
    "version": 3
   },
   "pygments_lexer": "ipython3",
   "nbconvert_exporter": "python",
   "file_extension": ".py"
  }
 },
 "nbformat_minor": 4,
 "nbformat": 4,
 "cells": [
  {
   "cell_type": "code",
   "execution_count": null,
   "outputs": [],
   "source": [
    "import glob\n",
    "import numpy as np\n",
    "import matplotlib.pyplot as plt\n",
    "import os\n",
    "import matplotlib.image as image\n",
    "import cv2\n",
    "from tensorflow.keras.layers import Conv2D, MaxPooling2D, Dense, Flatten, Activation, Dropout\n",
    "from tensorflow.keras.models import Sequential\n",
    "import numpy as np\n",
    "from sklearn import preprocessing\n",
    "from random import shuffle\n",
    "from numpy import argmax"
   ],
   "metadata": {
    "collapsed": false,
    "pycharm": {
     "name": "#%%\n"
    }
   }
  },
  {
   "cell_type": "markdown",
   "source": [
    "# **Reading dataset**"
   ],
   "metadata": {
    "collapsed": false,
    "pycharm": {
     "name": "#%% md\n"
    }
   }
  },
  {
   "cell_type": "code",
   "execution_count": null,
   "outputs": [],
   "source": [
    "\n",
    "train = glob.glob(\"../input/chess-positions/train/*.jpeg\")\n",
    "test = glob.glob(\"../input/chess-positions/test/*.jpeg\")\n"
   ],
   "metadata": {
    "collapsed": false,
    "pycharm": {
     "name": "#%%\n"
    }
   }
  },
  {
   "cell_type": "code",
   "execution_count": null,
   "outputs": [],
   "source": [
    "train_size = 3000\n",
    "test_size = 1000\n",
    "shuffle(train)\n",
    "shuffle(test)\n",
    "train = train[:train_size]\n",
    "test = test[:test_size]\n"
   ],
   "metadata": {
    "collapsed": false,
    "pycharm": {
     "name": "#%%\n"
    }
   }
  },
  {
   "cell_type": "code",
   "execution_count": null,
   "outputs": [],
   "source": [
    "def fen_label_extraction(data):\n",
    "    \"\"\"\n",
    "This method take dataset as parameter and create labels for all items\n",
    "    :param data: list of images in FEN format\n",
    "    :return: labels contain labels for each 64 images in 8X8 chess board\n",
    "    \"\"\"\n",
    "\n",
    "    labels = []\n",
    "    for img in data:\n",
    "        base = os.path.basename(img)\n",
    "        labels.append(os.path.splitext(base)[0])\n",
    "    return labels\n",
    "    \n",
    "def getX(data):\n",
    "    \"\"\"\n",
    "This method take dataset as parameter and return list of images\n",
    "    :param data: list of images in FEN format\n",
    "    :return: list of images in Pixel format\n",
    "    \"\"\"\n",
    "\n",
    "    X = [cv2.imread(i) for i in data]\n",
    "    return X\n",
    "\n",
    "def split_chess_board(board):\n",
    "    \"\"\"\n",
    "This method takes a chess board image as input and generate 64 images (8X8 chess board = 64 sub images)\n",
    "    :param board: Image of chess board\n",
    "    :return: 64 images reshaped into 25X25X3 shape\n",
    "    \"\"\"\n",
    "\n",
    "    temp = []\n",
    "    for x in range(0,8):\n",
    "        temp2 = board[(x*25):((x+1)*25),:]\n",
    "        for y in range(0,8):\n",
    "            temp.append(temp2[:,(y*25):((y+1)*25)].flatten().reshape(25,25,3))\n",
    "    return temp\n",
    "\n",
    "def split_labels(y_train):\n",
    "    \"\"\"\n",
    "This split the image name in FEN format into labels for 64 images\n",
    "    :param y:  The label of image in FEN\n",
    "    :return: seperate labels of size 64\n",
    "    \"\"\"\n",
    "\n",
    "    labels = []\n",
    "    for i in y_train:\n",
    "        for ches_row in i.split('-'):\n",
    "            for item in ches_row:\n",
    "                if(item.isdigit()):\n",
    "                    empty_pos = int(item)\n",
    "                    for i in range(empty_pos):\n",
    "                        labels.append('1')\n",
    "                else:\n",
    "                    labels.append(item)\n",
    "    return labels\n",
    "\n",
    "def prepare_test_image(img):\n",
    "    \"\"\"\n",
    "Given a random image of chess board, it will generate images for making prediction\n",
    "\n",
    "    :param img: image of chess board\n",
    "    :return: preprocessed image for making prediction and copy of original image\n",
    "    \"\"\"\n",
    "\n",
    "    test_img = cv2.imread(img)\n",
    "    board  =cv2.resize(test_img, (200, 200))\n",
    "    temp = []\n",
    "    for x in range(0,8):\n",
    "        temp2 = board[(x*25):((x+1)*25),:]\n",
    "        for y in range(0,8):\n",
    "            temp.append(temp2[:,(y*25):((y+1)*25)].flatten().reshape(25,25,3))\n",
    "            \n",
    "    tes = np.array(temp).astype(\"float32\") / 255\n",
    "    return tes,test_img\n",
    "\n",
    "def preprocess(X):\n",
    "    \"\"\"\n",
    "Given an image of chess board, it will preprocess and generate 64 images\n",
    "\n",
    "    :param X: image of chess board\n",
    "    :return: list of 64 images\n",
    "    \"\"\"\n",
    "\n",
    "    temp=[]\n",
    "    for i in X:\n",
    "        img  =cv2.resize(i, (200, 200))\n",
    "        temp.extend(split_chess_board(img))  \n",
    "    return temp\n",
    "\n",
    "def decode_fen(prediction):\n",
    "    \"\"\"\n",
    "It will recreate the FEN label from predicted label\n",
    "    :param prediction: predicted label in encoded format\n",
    "    :return: FEN string\n",
    "    \"\"\"\n",
    "\n",
    "    predicted_fen = []\n",
    "    for i in prediction[0]:\n",
    "        row = le.inverse_transform(i)\n",
    "        fen = ''\n",
    "        count = 0\n",
    "        digit_flag = False\n",
    "        for j in range(len(row)):\n",
    "            if row[j].isdigit():\n",
    "                count = count+1\n",
    "                digit_flag = True\n",
    "                if(j==7):\n",
    "                    fen = fen+ str(count)\n",
    "            else:\n",
    "                if digit_flag:\n",
    "                    fen = fen+ str(count)\n",
    "                    fen = fen+row[j]\n",
    "                else:\n",
    "                    fen = fen+row[j]\n",
    "                digit_flag = False\n",
    "                count = 0\n",
    "        predicted_fen.append(fen)\n",
    "    return '-'.join(predicted_fen)s\n"
   ],
   "metadata": {
    "collapsed": false,
    "pycharm": {
     "name": "#%%\n"
    }
   }
  },
  {
   "cell_type": "code",
   "execution_count": null,
   "outputs": [],
   "source": [
    "y_train_global = np.array(fen_label_extraction(train))\n",
    "y_test_global = np.array(fen_label_extraction(test))\n",
    "X_train_global = np.array(getX(train))\n",
    "X_test_global = np.array(getX(test))"
   ],
   "metadata": {
    "collapsed": false,
    "pycharm": {
     "name": "#%%\n"
    }
   }
  },
  {
   "cell_type": "code",
   "execution_count": null,
   "outputs": [],
   "source": [
    "y_train = y_train_global\n",
    "y_test = y_test_global\n",
    "X_train = X_train_global\n",
    "X_test = X_test_global"
   ],
   "metadata": {
    "collapsed": false,
    "pycharm": {
     "name": "#%%\n"
    }
   }
  },
  {
   "cell_type": "markdown",
   "source": [
    "# **Visualize Data**"
   ],
   "metadata": {
    "collapsed": false,
    "pycharm": {
     "name": "#%% md\n"
    }
   }
  },
  {
   "cell_type": "code",
   "execution_count": null,
   "outputs": [],
   "source": [
    "fig, ax = plt.subplots(1,4, figsize=(15,15))\n",
    "for i in range(4):\n",
    "    ax[i].set_title(y_train[i])\n",
    "    ax[i].imshow(X_train[i])"
   ],
   "metadata": {
    "collapsed": false,
    "pycharm": {
     "name": "#%%\n"
    }
   }
  },
  {
   "cell_type": "markdown",
   "source": [
    "# **Preprocessing Train data**"
   ],
   "metadata": {
    "collapsed": false,
    "pycharm": {
     "name": "#%% md\n"
    }
   }
  },
  {
   "cell_type": "code",
   "execution_count": null,
   "outputs": [],
   "source": [
    "X_train = preprocess(X_train)\n",
    "fig, ax = plt.subplots(1,8, figsize=(15,15))\n",
    "for i in range(8):\n",
    "    ax[i].imshow(X_train[i])\n"
   ],
   "metadata": {
    "collapsed": false,
    "pycharm": {
     "name": "#%%\n"
    }
   }
  },
  {
   "cell_type": "markdown",
   "source": [
    "# **Preprocessing train labels**"
   ],
   "metadata": {
    "collapsed": false,
    "pycharm": {
     "name": "#%% md\n"
    }
   }
  },
  {
   "cell_type": "code",
   "execution_count": null,
   "outputs": [],
   "source": [
    "y = np.array(split_labels(y_train), dtype='str')\n",
    "print(y_train[0])\n",
    "print(y[0],y[1],y[2],y[3],y[4],y[5],y[6],y[7])"
   ],
   "metadata": {
    "collapsed": false,
    "pycharm": {
     "name": "#%%\n"
    }
   }
  },
  {
   "cell_type": "code",
   "execution_count": null,
   "outputs": [],
   "source": [
    "print(\"Length of training data: \",len(X_train))\n",
    "print(\"Length of training labels: \",len(y))"
   ],
   "metadata": {
    "collapsed": false,
    "pycharm": {
     "name": "#%%\n"
    }
   }
  },
  {
   "cell_type": "code",
   "execution_count": null,
   "outputs": [],
   "source": [
    "unique_labels = list(set(y))\n",
    "print('unique_labels: ',unique_labels)"
   ],
   "metadata": {
    "collapsed": false,
    "pycharm": {
     "name": "#%%\n"
    }
   }
  },
  {
   "cell_type": "markdown",
   "source": [
    "# **Label encoder for train**"
   ],
   "metadata": {
    "collapsed": false,
    "pycharm": {
     "name": "#%% md\n"
    }
   }
  },
  {
   "cell_type": "code",
   "execution_count": null,
   "outputs": [],
   "source": [
    "le = preprocessing.LabelEncoder()\n",
    "y_train = le.fit_transform(y)\n",
    "print('Encoded classes: ',list(le.classes_))\n",
    "print(y_train[:7])\n",
    "print(y[:7])\n"
   ],
   "metadata": {
    "collapsed": false,
    "pycharm": {
     "name": "#%%\n"
    }
   }
  },
  {
   "cell_type": "markdown",
   "source": [
    "# **Prepocessing Test Data**"
   ],
   "metadata": {
    "collapsed": false,
    "pycharm": {
     "name": "#%% md\n"
    }
   }
  },
  {
   "cell_type": "code",
   "execution_count": null,
   "outputs": [],
   "source": [
    "X_test = preprocess(X_test)"
   ],
   "metadata": {
    "collapsed": false,
    "pycharm": {
     "name": "#%%\n"
    }
   }
  },
  {
   "cell_type": "code",
   "execution_count": null,
   "outputs": [],
   "source": [
    "from keras.utils import np_utils\n",
    "y_t = np.array(split_labels(y_test),dtype='str')\n",
    "y_test = le.transform(y_t)\n"
   ],
   "metadata": {
    "collapsed": false,
    "pycharm": {
     "name": "#%%\n"
    }
   }
  },
  {
   "cell_type": "code",
   "execution_count": null,
   "outputs": [],
   "source": [
    "plt.imshow(X_test[3])\n",
    "print('y_test:',y_test[3])"
   ],
   "metadata": {
    "collapsed": false,
    "pycharm": {
     "name": "#%%\n"
    }
   }
  },
  {
   "cell_type": "code",
   "execution_count": null,
   "outputs": [],
   "source": [
    "X_train = (np.array(X_train))\n",
    "y_train = (np.array(y_train))\n",
    "X_train = X_train.astype(\"float32\") / 255\n",
    "\n",
    "print(\"x_train shape:\", X_train.shape)\n",
    "print(\"y_train shape:\", y_train.shape)\n",
    "\n",
    "\n",
    "X_test = (np.array(X_test))\n",
    "y_test = (np.array(y_test))\n",
    "X_test = X_test.astype(\"float32\") / 255\n",
    "\n",
    "print(\"x_test shape:\", X_test.shape)\n",
    "print(\"y_test shape:\", y_test.shape)\n",
    "\n",
    "\n"
   ],
   "metadata": {
    "collapsed": false,
    "pycharm": {
     "name": "#%%\n"
    }
   }
  },
  {
   "cell_type": "markdown",
   "source": [
    "# **Designing Neural Net**"
   ],
   "metadata": {
    "collapsed": false,
    "pycharm": {
     "name": "#%% md\n"
    }
   }
  },
  {
   "cell_type": "code",
   "execution_count": null,
   "outputs": [],
   "source": [
    "model = Sequential()\n",
    "model.add(Conv2D(25, (3, 3), activation='relu', kernel_initializer='he_uniform', padding='same', input_shape=(25, 25, 3)))\n",
    "model.add(MaxPooling2D((2, 2)))\n",
    "model.add(Conv2D(50, (3, 3), activation='relu', kernel_initializer='he_uniform', padding='same'))\n",
    "model.add(Flatten())\n",
    "model.add(Dropout(0.3))\n",
    "model.add(Dense(13, activation='softmax'))\n",
    "model.compile(loss='sparse_categorical_crossentropy', optimizer='adam',metrics=[\"accuracy\"])\n",
    "model.summary()\n"
   ],
   "metadata": {
    "collapsed": false,
    "pycharm": {
     "name": "#%%\n"
    }
   }
  },
  {
   "cell_type": "code",
   "execution_count": null,
   "outputs": [],
   "source": [
    "history = model.fit(X_train,y_train, epochs = 2, validation_data=(X_test, y_test))\n"
   ],
   "metadata": {
    "collapsed": false,
    "pycharm": {
     "name": "#%%\n"
    }
   }
  },
  {
   "cell_type": "code",
   "execution_count": null,
   "outputs": [],
   "source": [
    "import matplotlib.pyplot as plt\n",
    "plt.plot(history.history['accuracy'])\n",
    "plt.plot(history.history['val_accuracy'])\n",
    "plt.title('model accuracy')\n",
    "plt.ylabel('accuracy')\n",
    "plt.xlabel('epoch')\n",
    "plt.legend(['train', 'val'], loc='upper left')\n",
    "plt.show()"
   ],
   "metadata": {
    "collapsed": false,
    "pycharm": {
     "name": "#%%\n"
    }
   }
  },
  {
   "cell_type": "code",
   "source": "import matplotlib.pyplot as plt\nplt.plot(history.history['accuracy'])\nplt.plot(history.history['val_accuracy'])\nplt.title('model accuracy')\nplt.ylabel('accuracy')\nplt.xlabel('epoch')\nplt.legend(['train', 'val'], loc='upper left')\nplt.show()",
   "metadata": {
    "execution": {
     "iopub.status.busy": "2022-08-04T21:17:24.527069Z",
     "iopub.execute_input": "2022-08-04T21:17:24.527444Z",
     "iopub.status.idle": "2022-08-04T21:17:24.730319Z",
     "shell.execute_reply.started": "2022-08-04T21:17:24.527416Z",
     "shell.execute_reply": "2022-08-04T21:17:24.729248Z"
    },
    "trusted": true
   },
   "execution_count": 22,
   "outputs": []
  },
  {
   "cell_type": "markdown",
   "source": "# **Make Prediction**",
   "metadata": {}
  },
  {
   "cell_type": "code",
   "source": "from random import randint\n\nrandom_index = randint(0,999)\ntest_image,test_img = prepare_test_image(test[random_index])\n",
   "metadata": {
    "execution": {
     "iopub.status.busy": "2022-08-04T21:17:24.731822Z",
     "iopub.execute_input": "2022-08-04T21:17:24.732173Z",
     "iopub.status.idle": "2022-08-04T21:17:24.747085Z",
     "shell.execute_reply.started": "2022-08-04T21:17:24.732138Z",
     "shell.execute_reply": "2022-08-04T21:17:24.741655Z"
    },
    "trusted": true
   },
   "execution_count": 23,
   "outputs": []
  },
  {
   "cell_type": "code",
   "source": "res = (\n  model.predict(test_image)\n  .argmax(axis=1)\n  .reshape(-1, 8, 8)\n)\nres",
   "metadata": {
    "execution": {
     "iopub.status.busy": "2022-08-04T21:17:24.749104Z",
     "iopub.execute_input": "2022-08-04T21:17:24.749529Z",
     "iopub.status.idle": "2022-08-04T21:17:24.856196Z",
     "shell.execute_reply.started": "2022-08-04T21:17:24.749492Z",
     "shell.execute_reply": "2022-08-04T21:17:24.855245Z"
    },
    "trusted": true
   },
   "execution_count": 24,
   "outputs": []
  },
  {
   "cell_type": "code",
   "source": "plt.imshow(test_img)\n",
   "metadata": {
    "execution": {
     "iopub.status.busy": "2022-08-04T21:17:24.859442Z",
     "iopub.execute_input": "2022-08-04T21:17:24.859780Z",
     "iopub.status.idle": "2022-08-04T21:17:25.076480Z",
     "shell.execute_reply.started": "2022-08-04T21:17:24.859755Z",
     "shell.execute_reply": "2022-08-04T21:17:25.075452Z"
    },
    "trusted": true
   },
   "execution_count": 25,
   "outputs": []
  },
  {
   "cell_type": "code",
   "source": "print(\"Actual label:\", test[random_index].split('/')[-1] )\nprint(\"predicted FEN:\",decode_fen(res))\n",
   "metadata": {
    "execution": {
     "iopub.status.busy": "2022-08-04T21:17:25.077918Z",
     "iopub.execute_input": "2022-08-04T21:17:25.079846Z",
     "iopub.status.idle": "2022-08-04T21:17:25.088496Z",
     "shell.execute_reply.started": "2022-08-04T21:17:25.079805Z",
     "shell.execute_reply": "2022-08-04T21:17:25.087514Z"
    },
    "trusted": true
   },
   "execution_count": 26,
   "outputs": []
  },
  {
   "cell_type": "code",
   "source": "",
   "metadata": {},
   "execution_count": null,
   "outputs": []
  }
 ]
}